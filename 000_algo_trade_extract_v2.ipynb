{
 "cells": [
  {
   "cell_type": "code",
   "execution_count": null,
   "metadata": {},
   "outputs": [],
   "source": [
    "import numpy as np #The Numpy numerical computing library\n",
    "import pandas as pd #The Pandas data science library\n",
    "import requests #The requests library for HTTP requests in Python\n",
    "import math #The Python math module\n",
    "#import iexfinance\n",
    "from scipy import stats #The SciPy stats module"
   ]
  },
  {
   "cell_type": "code",
   "execution_count": null,
   "metadata": {},
   "outputs": [],
   "source": [
    "#Get list of all stocks from S&P 500\n",
    "#https://medium.com/wealthy-bytes/5-lines-of-python-to-automate-getting-the-s-p-500-95a632e5e567\n",
    "#read_html returns a list of dataframe objects -> in this case two objects where we only need\n",
    "#the first one. Therefore we select index 0\n",
    "\n",
    "table=pd.read_html('https://en.wikipedia.org/wiki/List_of_S%26P_500_companies')\n",
    "df = table[0]\n",
    "df.to_csv('S&P500-Info.csv')\n",
    "df.to_csv(\"S&P500-Symbols.csv\", columns=['Symbol'])\n",
    "\n",
    "stocks = pd.read_csv('S&P500-Info.csv')\n",
    "#stocks['Symbol']\n",
    "#stocks = stocks.loc[1:2]\n",
    "#print(stocks)"
   ]
  },
  {
   "cell_type": "code",
   "execution_count": null,
   "metadata": {},
   "outputs": [],
   "source": [
    "#IEX Parameters \n",
    "\n",
    "# Get the relevant Token \n",
    "from secrets import IEX_CLOUD_API_TOKEN\n",
    "token = IEX_CLOUD_API_TOKEN\n",
    "\n",
    "#from secrets import IEX_SANDBOX_API_TOKEN\n",
    "#token = IEX_SANDBOX_API_TOKEN\n",
    "\n",
    "# Get the relevant BASE URL\n",
    "#Production: https://cloud.iexapis.com/stable\n",
    "#Sandbox: https://sandbox.iexapis.com/stable\n",
    "#base_url = 'https://sandbox.iexapis.com/stable'\n",
    "base_url = 'https://cloud.iexapis.com/stable'\n"
   ]
  },
  {
   "cell_type": "code",
   "execution_count": null,
   "metadata": {},
   "outputs": [],
   "source": [
    "# Define a final dataframe for further analysis \n",
    "\n",
    "my_col = [    'Ticker',                             #1\n",
    "              'Company Name',                       #2\n",
    "              'Industry',                           #3\n",
    "              'Price',                              #4\n",
    "              'Adjusted 52 week low',               #5\n",
    "              'Adjusted 52 week high',              #6\n",
    "              'Market Capitalization',              #7\n",
    "              'Twelve months Earnings per Share',   #8\n",
    "              'Price to Earnings Ratio',            #9\n",
    "              'One-Year Price Return',              #10\n",
    "              'Six-Month Price Return',             #11\n",
    "              'Three-Month Price Return',           #12\n",
    "              'One-Month Price Return',             #13\n",
    "               ]\n",
    "\n",
    "fin_df = pd.DataFrame(columns = my_col)\n",
    "fin_df"
   ]
  },
  {
   "cell_type": "code",
   "execution_count": null,
   "metadata": {},
   "outputs": [],
   "source": [
    "# Define a final dataframe for further analysis \n",
    "#resp = requests.get(base_url + '/status')\n",
    "\n",
    "for ind in stocks.index:\n",
    "    print(ind, stocks['Symbol'][ind])\n",
    "    url_company = f\"{base_url}/stock/{stocks['Symbol'][ind]}/company?token={token}\"   \n",
    "    data_company = requests.get(url_company).json()\n",
    "    \n",
    "    url_quote  = f\"{base_url}/stock/{stocks['Symbol'][ind]}/quote?token={token}\"\n",
    "    data_quote = requests.get(url_quote).json()\n",
    "    \n",
    "    url_stats  = f\"{base_url}/stock/{stocks['Symbol'][ind]}/stats?token={token}\"\n",
    "    data_stats = requests.get(url_stats).json()\n",
    "    \n",
    "    #url_advstats  = f\"{base_url}/stock/{stocks['Symbol'][ind]}/advanced-stats?token={token}\"\n",
    "    #data_advstats = requests.get(url_advstats).json()\n",
    "    \n",
    "    \n",
    "    fin_df = fin_df.append(pd.Series( [data_quote['symbol'],                   #1\n",
    "                                       data_quote['companyName'],              #2\n",
    "                                       data_company['industry'],               #3\n",
    "                                       data_quote['latestPrice'],              #4\n",
    "                                       data_quote['week52Low'],                #5\n",
    "                                       data_quote['week52High'],               #6\n",
    "                                       data_quote['marketCap'],                #7\n",
    "                                       data_stats['ttmEPS'],                   #8\n",
    "                                       data_quote['peRatio'],                  #9\n",
    "                                       data_stats['year1ChangePercent'],       #10\n",
    "                                       data_stats['month6ChangePercent'],      #11\n",
    "                                       data_stats['month3ChangePercent'],      #12 \n",
    "                                       data_stats['month1ChangePercent'],      #13\n",
    "                                      ],\n",
    "                                                    index = my_col), \n",
    "                                        ignore_index = True)\n",
    "\n",
    "fin_df"
   ]
  },
  {
   "cell_type": "code",
   "execution_count": null,
   "metadata": {},
   "outputs": [],
   "source": [
    "#Store raw data extract in to xls.\n",
    "locpath1 = \"C:/Users/marcw/01_projects/jupyterlab/03_algorithmic_trading/\"\n",
    "fin_df.to_excel(locpath1+\"fin_df.xlsx\", sheet_name='Tabelle1')   \n",
    "\n",
    "### End of Extraction Programm"
   ]
  }
 ],
 "metadata": {
  "kernelspec": {
   "display_name": "Python 3",
   "language": "python",
   "name": "python3"
  },
  "language_info": {
   "codemirror_mode": {
    "name": "ipython",
    "version": 3
   },
   "file_extension": ".py",
   "mimetype": "text/x-python",
   "name": "python",
   "nbconvert_exporter": "python",
   "pygments_lexer": "ipython3",
   "version": "3.8.5"
  }
 },
 "nbformat": 4,
 "nbformat_minor": 5
}
